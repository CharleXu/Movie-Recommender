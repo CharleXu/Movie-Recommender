{
    "nbformat_minor": 1, 
    "cells": [
        {
            "source": "## Load Data", 
            "cell_type": "markdown", 
            "metadata": {}
        }, 
        {
            "execution_count": 1, 
            "cell_type": "code", 
            "metadata": {}, 
            "outputs": [], 
            "source": "from pyspark.sql.types import *\nimport pyspark.sql.functions as F"
        }, 
        {
            "execution_count": 2, 
            "cell_type": "code", 
            "metadata": {}, 
            "outputs": [
                {
                    "output_type": "stream", 
                    "name": "stdout", 
                    "text": "+------+-------+------+\n|userId|movieId|rating|\n+------+-------+------+\n|     1|     31|   2.5|\n|     1|   1029|   3.0|\n|     1|   1061|   3.0|\n|     1|   1129|   2.0|\n|     1|   1172|   4.0|\n+------+-------+------+\nonly showing top 5 rows\n\n"
                }
            ], 
            "source": "# The code was removed by DSX for sharing."
        }, 
        {
            "execution_count": 3, 
            "cell_type": "code", 
            "metadata": {}, 
            "outputs": [
                {
                    "execution_count": 3, 
                    "metadata": {}, 
                    "data": {
                        "text/plain": "['userId', 'movieId', 'rating']"
                    }, 
                    "output_type": "execute_result"
                }
            ], 
            "source": "small_rating.schema.names"
        }, 
        {
            "execution_count": 4, 
            "cell_type": "code", 
            "metadata": {}, 
            "outputs": [
                {
                    "output_type": "stream", 
                    "name": "stdout", 
                    "text": "+-------+--------------------+\n|movieId|               title|\n+-------+--------------------+\n|      1|    Toy Story (1995)|\n|      2|      Jumanji (1995)|\n|      3|Grumpier Old Men ...|\n|      4|Waiting to Exhale...|\n|      5|Father of the Bri...|\n+-------+--------------------+\nonly showing top 5 rows\n\n"
                }
            ], 
            "source": "\nsmall_movies = spark.read\\\n  .format('org.apache.spark.sql.execution.datasources.csv.CSVFileFormat')\\\n  .option('header', 'true')\\\n  .load(cos.url('movies.csv', 'moiverecommendationd136f4f785054be6861fc3dba4e8391e')).drop('genres')\n\nsmall_movies.show(5)\n"
        }, 
        {
            "source": "## Collaborative Filtering", 
            "cell_type": "markdown", 
            "metadata": {}
        }, 
        {
            "execution_count": 5, 
            "cell_type": "code", 
            "metadata": {}, 
            "outputs": [], 
            "source": "train, validation, test = small_rating.randomSplit([0.6, 0.2, 0.2])\nvalidation_for_predict = validation.select(validation.columns[0:2])\ntest_for_predict = test.select(test.columns[0:2])"
        }, 
        {
            "execution_count": 6, 
            "cell_type": "code", 
            "metadata": {}, 
            "outputs": [], 
            "source": "from pyspark.mllib.recommendation import ALS\nimport math\n\nseed = 0\niterations = 10\nregularization_parameter = 0.1\nranks = [4, 8, 12]\nerrors = [0, 0, 0]\nerr = 0\ntolerance = 0.02\n\nmin_error = float('inf')\nbest_rank = -1\nbest_iteration = -1    "
        }, 
        {
            "execution_count": 7, 
            "cell_type": "code", 
            "metadata": {}, 
            "outputs": [
                {
                    "output_type": "stream", 
                    "name": "stdout", 
                    "text": "For rank 4 the RMSE is 0.9393634103820316\nFor rank 8 the RMSE is 0.9514905390216329\nFor rank 12 the RMSE is 0.953502927598072\nThe best model was trained with rank 4\n"
                }
            ], 
            "source": "for rank in ranks:\n    model = ALS.train(train, rank, seed=seed, iterations=iterations, lambda_=regularization_parameter)\n    predictions = model.predictAll(validation_for_predict.rdd).map(lambda x: ((x[0], x[1]), x[2]))\n    rates_and_preds = validation.rdd.map(lambda x: ((int(x[0]), int(x[1])), float(x[2]))).join(predictions)\n    error = math.sqrt(rates_and_preds.map(lambda x: (x[1][0] - x[1][1])**2).mean())\n    errors[err] = error\n    err += 1\n    print('For rank %s the RMSE is %s'%(rank, error))\n    if error < min_error:\n        min_error = error\n        best_rank = rank\n    \nprint('The best model was trained with rank %s' %best_rank)"
        }, 
        {
            "execution_count": 9, 
            "cell_type": "code", 
            "metadata": {}, 
            "outputs": [
                {
                    "output_type": "stream", 
                    "name": "stdout", 
                    "text": "+------+-------+------+\n|userId|movieId|rating|\n+------+-------+------+\n|     1|    110|   1.0|\n|     1|    147|   4.5|\n|     1|    858|   5.0|\n|     1|   1221|   5.0|\n|     1|   1246|   5.0|\n+------+-------+------+\nonly showing top 5 rows\n\n"
                }
            ], 
            "source": "\nfull_rating = spark.read\\\n  .format('org.apache.spark.sql.execution.datasources.csv.CSVFileFormat')\\\n  .option('header', 'true')\\\n  .load(cos.url('ratings_full.csv', 'moiverecommendationd136f4f785054be6861fc3dba4e8391e'))\\\n  .drop('timestamp')\n\nfull_rating.show(5)\n"
        }, 
        {
            "execution_count": 11, 
            "cell_type": "code", 
            "metadata": {}, 
            "outputs": [], 
            "source": "train2, test2 = full_rating.randomSplit([0.7, 0.3])\nmodel2 = ALS.train(train2, best_rank, seed=seed, iterations=iterations, lambda_=regularization_parameter)\n\ntest2_for_predict = test2.rdd.map(lambda x: (x[0], x[1]))\npredictions2 = model.predictAll(test_for_predict.rdd).map(lambda x: ((x[0], x[1]), x[2]))\nrates_and_preds2 = test2.rdd.map(lambda x: ((int(x[0]), int(x[1])), float(x[2]))).join(predictions2)\nerror2 = math.sqrt(rates_and_preds2.map(lambda x: (x[1][0] - x[1][1])**2).mean())"
        }, 
        {
            "execution_count": 12, 
            "cell_type": "code", 
            "metadata": {}, 
            "outputs": [
                {
                    "output_type": "stream", 
                    "name": "stdout", 
                    "text": "For testing data the RMSE is 0.953502927598072\n"
                }
            ], 
            "source": "print('For testing data the RMSE is %s' %error)"
        }, 
        {
            "execution_count": null, 
            "cell_type": "code", 
            "metadata": {}, 
            "outputs": [], 
            "source": ""
        }
    ], 
    "metadata": {
        "kernelspec": {
            "display_name": "Python 3.5 with Spark 2.1", 
            "name": "python3-spark21", 
            "language": "python"
        }, 
        "language_info": {
            "mimetype": "text/x-python", 
            "nbconvert_exporter": "python", 
            "version": "3.5.4", 
            "name": "python", 
            "file_extension": ".py", 
            "pygments_lexer": "ipython3", 
            "codemirror_mode": {
                "version": 3, 
                "name": "ipython"
            }
        }
    }, 
    "nbformat": 4
}